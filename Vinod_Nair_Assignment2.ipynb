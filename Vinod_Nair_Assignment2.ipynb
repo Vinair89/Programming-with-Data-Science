{
 "cells": [
  {
   "cell_type": "markdown",
   "metadata": {},
   "source": [
    "### Import Packages"
   ]
  },
  {
   "cell_type": "code",
   "execution_count": null,
   "metadata": {
    "collapsed": true
   },
   "outputs": [],
   "source": [
    "import pandas as pd\n",
    "import matplotlib.pyplot as plt\n",
    "import seaborn as sns\n",
    "\n",
    "import plotly\n",
    "import plotly.plotly as py\n",
    "import plotly.graph_objs as go\n",
    "import plotly.figure_factory as FF\n",
    "\n",
    "plotly.tools.set_credentials_file(username='vinexy', api_key='VdBeLktVLszmDinsc4oX')\n",
    "%matplotlib inline\n",
    "%pylab inline"
   ]
  },
  {
   "cell_type": "markdown",
   "metadata": {},
   "source": [
    "### Read data"
   ]
  },
  {
   "cell_type": "code",
   "execution_count": 66,
   "metadata": {
    "collapsed": true
   },
   "outputs": [],
   "source": [
    "google_dat = pd.read_csv(\"GOOGL_2006-01-01_to_2018-01-01.csv\")\n",
    "amazon_dat = pd.read_csv(\"AMZN_2006-01-01_to_2018-01-01.csv\")\n",
    "ibm_dat = pd.read_csv(\"IBM_2006-01-01_to_2018-01-01.csv\")\n",
    "msft_dat = pd.read_csv(\"MSFT_2006-01-01_to_2018-01-01.csv\")\n",
    "cisco_dat=pd.read_csv(\"CSCO_2006-01-01_to_2018-01-01.csv\")\n",
    "intc_dat=pd.read_csv(\"INTC_2006-01-01_to_2018-01-01.csv\")\n",
    "pfe_dat=pd.read_csv(\"PFE_2006-01-01_to_2018-01-01.csv\")\n",
    "ge_dat=pd.read_csv(\"GE_2006-01-01_to_2018-01-01.csv\")\n",
    "apple_dat=pd.read_csv(\"AAPL_2006-01-01_to_2018-01-01.csv\")\n",
    "all_stocks_0 = pd.read_csv(\"all_stocks_2006-01-01_to_2018-01-01.csv\")\n",
    "all_stocks_1 = pd.read_csv(\"all_stocks_2017-01-01_to_2018-01-01.csv\")"
   ]
  },
  {
   "cell_type": "code",
   "execution_count": 6,
   "metadata": {},
   "outputs": [
    {
     "data": {
      "text/html": [
       "<div>\n",
       "<style>\n",
       "    .dataframe thead tr:only-child th {\n",
       "        text-align: right;\n",
       "    }\n",
       "\n",
       "    .dataframe thead th {\n",
       "        text-align: left;\n",
       "    }\n",
       "\n",
       "    .dataframe tbody tr th {\n",
       "        vertical-align: top;\n",
       "    }\n",
       "</style>\n",
       "<table border=\"1\" class=\"dataframe\">\n",
       "  <thead>\n",
       "    <tr style=\"text-align: right;\">\n",
       "      <th></th>\n",
       "      <th>Date</th>\n",
       "      <th>Open</th>\n",
       "      <th>High</th>\n",
       "      <th>Low</th>\n",
       "      <th>Close</th>\n",
       "      <th>Volume</th>\n",
       "      <th>Name</th>\n",
       "    </tr>\n",
       "  </thead>\n",
       "  <tbody>\n",
       "    <tr>\n",
       "      <th>0</th>\n",
       "      <td>2006-01-03</td>\n",
       "      <td>211.47</td>\n",
       "      <td>218.05</td>\n",
       "      <td>209.32</td>\n",
       "      <td>217.83</td>\n",
       "      <td>13137450</td>\n",
       "      <td>GOOGL</td>\n",
       "    </tr>\n",
       "    <tr>\n",
       "      <th>1</th>\n",
       "      <td>2006-01-04</td>\n",
       "      <td>222.17</td>\n",
       "      <td>224.70</td>\n",
       "      <td>220.09</td>\n",
       "      <td>222.84</td>\n",
       "      <td>15292353</td>\n",
       "      <td>GOOGL</td>\n",
       "    </tr>\n",
       "    <tr>\n",
       "      <th>2</th>\n",
       "      <td>2006-01-05</td>\n",
       "      <td>223.22</td>\n",
       "      <td>226.00</td>\n",
       "      <td>220.97</td>\n",
       "      <td>225.85</td>\n",
       "      <td>10815661</td>\n",
       "      <td>GOOGL</td>\n",
       "    </tr>\n",
       "    <tr>\n",
       "      <th>3</th>\n",
       "      <td>2006-01-06</td>\n",
       "      <td>228.66</td>\n",
       "      <td>235.49</td>\n",
       "      <td>226.85</td>\n",
       "      <td>233.06</td>\n",
       "      <td>17759521</td>\n",
       "      <td>GOOGL</td>\n",
       "    </tr>\n",
       "    <tr>\n",
       "      <th>4</th>\n",
       "      <td>2006-01-09</td>\n",
       "      <td>233.44</td>\n",
       "      <td>236.94</td>\n",
       "      <td>230.70</td>\n",
       "      <td>233.68</td>\n",
       "      <td>12795837</td>\n",
       "      <td>GOOGL</td>\n",
       "    </tr>\n",
       "  </tbody>\n",
       "</table>\n",
       "</div>"
      ],
      "text/plain": [
       "         Date    Open    High     Low   Close    Volume   Name\n",
       "0  2006-01-03  211.47  218.05  209.32  217.83  13137450  GOOGL\n",
       "1  2006-01-04  222.17  224.70  220.09  222.84  15292353  GOOGL\n",
       "2  2006-01-05  223.22  226.00  220.97  225.85  10815661  GOOGL\n",
       "3  2006-01-06  228.66  235.49  226.85  233.06  17759521  GOOGL\n",
       "4  2006-01-09  233.44  236.94  230.70  233.68  12795837  GOOGL"
      ]
     },
     "execution_count": 6,
     "metadata": {},
     "output_type": "execute_result"
    }
   ],
   "source": [
    "google_dat.head()"
   ]
  },
  {
   "cell_type": "markdown",
   "metadata": {},
   "source": [
    "### 1) Plot Average Stock Price for top brand Companies - Google, Amazon, IBM. Microsoft, Apple) "
   ]
  },
  {
   "cell_type": "code",
   "execution_count": 8,
   "metadata": {
    "collapsed": true
   },
   "outputs": [],
   "source": [
    "pylab.rcParams['figure.figsize'] = (15, 9)"
   ]
  },
  {
   "cell_type": "code",
   "execution_count": 80,
   "metadata": {},
   "outputs": [
    {
     "data": {
      "text/html": [
       "<iframe id=\"igraph\" scrolling=\"no\" style=\"border:none;\" seamless=\"seamless\" src=\"https://plot.ly/~vinexy/116.embed\" height=\"525px\" width=\"100%\"></iframe>"
      ],
      "text/plain": [
       "<plotly.tools.PlotlyDisplay object>"
      ]
     },
     "execution_count": 80,
     "metadata": {},
     "output_type": "execute_result"
    }
   ],
   "source": [
    "google_dat['Avg'] = (google_dat['High']+google_dat['Low'])/2\n",
    "ibm_dat['Avg'] = (ibm_dat['High']+ibm_dat['Low'])/2\n",
    "amazon_dat['Avg'] = (amazon_dat['High']+amazon_dat['Low'])/2\n",
    "msft_dat['Avg'] = (msft_dat['High']+msft_dat['Low'])/2\n",
    "apple_dat['Avg'] = (apple_dat['High']+apple_dat['Low']/2)\n",
    "\n",
    "trace_0 = go.Scatter(x = google_dat['Date'], y = google_dat['Avg'],\n",
    "                  name='Google Stock Price (in USD)')\n",
    "trace_1 = go.Scatter(x = ibm_dat['Date'], y = ibm_dat['Avg'],\n",
    "                  name='IBM Stock Price (in USD)')\n",
    "trace_2 = go.Scatter(x = amazon_dat['Date'], y = amazon_dat['Avg'],\n",
    "                  name='Amazon Stock Price (in USD)')\n",
    "trace_3 = go.Scatter(x = msft_dat['Date'], y = msft_dat['Avg'],\n",
    "                  name='Microsoft Stock Prices (in USD)')\n",
    "trace_4 = go.Scatter(x = apple_dat['Date'], y = apple_dat['Avg'],\n",
    "                  name='Apple Stock Price (in USD)')\n",
    "layout = go.Layout(title='Average Share Prices - Google, IBM, Amazon, Microsft, Apple',\n",
    "                   plot_bgcolor='rgb(230, 230,230)', \n",
    "                   showlegend=True)\n",
    "fig = go.Figure(data=[trace_0,trace_1,trace_2,trace_3,trace_4], layout=layout)\n",
    "\n",
    "py.iplot(fig)"
   ]
  },
  {
   "cell_type": "markdown",
   "metadata": {},
   "source": [
    "### 2) Candle Stick Plot for Google Stock"
   ]
  },
  {
   "cell_type": "code",
   "execution_count": 27,
   "metadata": {},
   "outputs": [
    {
     "data": {
      "text/html": [
       "<iframe id=\"igraph\" scrolling=\"no\" style=\"border:none;\" seamless=\"seamless\" src=\"https://plot.ly/~vinexy/2.embed\" height=\"525px\" width=\"100%\"></iframe>"
      ],
      "text/plain": [
       "<plotly.tools.PlotlyDisplay object>"
      ]
     },
     "execution_count": 27,
     "metadata": {},
     "output_type": "execute_result"
    }
   ],
   "source": [
    "trace = go.Candlestick(x=google_dat.Date,\n",
    "                       open=google_dat.Open,\n",
    "                       high=google_dat.High,\n",
    "                       low=google_dat.Low,\n",
    "                       close=google_dat.Close)\n",
    "data = [trace]\n",
    "py.iplot(data, filename='simple_candlestick')"
   ]
  },
  {
   "cell_type": "markdown",
   "metadata": {},
   "source": [
    "### 3) Candle Stick Plot for Amazon Stock"
   ]
  },
  {
   "cell_type": "code",
   "execution_count": 76,
   "metadata": {},
   "outputs": [
    {
     "data": {
      "text/html": [
       "<iframe id=\"igraph\" scrolling=\"no\" style=\"border:none;\" seamless=\"seamless\" src=\"https://plot.ly/~vinexy/108.embed\" height=\"525px\" width=\"100%\"></iframe>"
      ],
      "text/plain": [
       "<plotly.tools.PlotlyDisplay object>"
      ]
     },
     "execution_count": 76,
     "metadata": {},
     "output_type": "execute_result"
    }
   ],
   "source": [
    "trace = go.Candlestick(x=amazon_dat.Date,\n",
    "                       open=amazon_dat.Open,\n",
    "                       high=amazon_dat.High,\n",
    "                       low=amazon_dat.Low,\n",
    "                       close=amazon_dat.Close)\n",
    "data = [trace]\n",
    "py.iplot(data, filename='simple_candlestick')"
   ]
  },
  {
   "cell_type": "markdown",
   "metadata": {},
   "source": [
    "### 4) Plot Volume of Google Shares traded between 2016 and 2017"
   ]
  },
  {
   "cell_type": "code",
   "execution_count": 78,
   "metadata": {},
   "outputs": [
    {
     "data": {
      "text/html": [
       "<iframe id=\"igraph\" scrolling=\"no\" style=\"border:none;\" seamless=\"seamless\" src=\"https://plot.ly/~vinexy/112.embed\" height=\"525px\" width=\"100%\"></iframe>"
      ],
      "text/plain": [
       "<plotly.tools.PlotlyDisplay object>"
      ]
     },
     "execution_count": 78,
     "metadata": {},
     "output_type": "execute_result"
    }
   ],
   "source": [
    "trace = go.Bar(x = google_dat['Date'], y = google_dat['Volume'],\n",
    "                  name='Volume of Google Shares Traded')\n",
    "layout = go.Layout(title='Volume of Google Shares',\n",
    "                   plot_bgcolor='rgb(230,230,230)', \n",
    "                   showlegend=True)\n",
    "fig = go.Figure(data=[trace], layout=layout)\n",
    "\n",
    "py.iplot(fig)"
   ]
  },
  {
   "cell_type": "markdown",
   "metadata": {},
   "source": [
    "### 5) Plot Volume of Amazon Shares traded between 2016 and 2017"
   ]
  },
  {
   "cell_type": "code",
   "execution_count": 77,
   "metadata": {
    "scrolled": true
   },
   "outputs": [
    {
     "data": {
      "text/html": [
       "<iframe id=\"igraph\" scrolling=\"no\" style=\"border:none;\" seamless=\"seamless\" src=\"https://plot.ly/~vinexy/110.embed\" height=\"525px\" width=\"100%\"></iframe>"
      ],
      "text/plain": [
       "<plotly.tools.PlotlyDisplay object>"
      ]
     },
     "execution_count": 77,
     "metadata": {},
     "output_type": "execute_result"
    }
   ],
   "source": [
    "trace = go.Bar(x = amazon_dat['Date'], y = amazon_dat['Volume'],\n",
    "                  name='Volume of Amazon Share Traded')\n",
    "layout = go.Layout(title='Volume of Amazon Shares',\n",
    "                   plot_bgcolor='rgb(230,230,230)', \n",
    "                   showlegend=True)\n",
    "fig = go.Figure(data=[trace], layout=layout)\n",
    "\n",
    "py.iplot(fig)"
   ]
  },
  {
   "cell_type": "markdown",
   "metadata": {},
   "source": [
    "### 6) Plot Average Volume of Shares Traded for each Organization in Year 2016 and ear 2017"
   ]
  },
  {
   "cell_type": "code",
   "execution_count": 8,
   "metadata": {
    "collapsed": true
   },
   "outputs": [],
   "source": [
    "df_v0=all_stocks_0.groupby('Name')['Volume'].mean().to_frame()\n",
    "df_v0.reset_index(inplace=True)\n",
    "df_v1=all_stocks_1.groupby('Name')['Volume'].mean().to_frame()\n",
    "df_v1.reset_index(inplace=True)"
   ]
  },
  {
   "cell_type": "code",
   "execution_count": 79,
   "metadata": {},
   "outputs": [
    {
     "data": {
      "text/html": [
       "<iframe id=\"igraph\" scrolling=\"no\" style=\"border:none;\" seamless=\"seamless\" src=\"https://plot.ly/~vinexy/114.embed\" height=\"525px\" width=\"100%\"></iframe>"
      ],
      "text/plain": [
       "<plotly.tools.PlotlyDisplay object>"
      ]
     },
     "execution_count": 79,
     "metadata": {},
     "output_type": "execute_result"
    }
   ],
   "source": [
    "trace_0 = go.Bar(x = df_v['Name'], y = df_v0['Volume'],\n",
    "                  name='Volume of Stocks Traded in 2016')\n",
    "trace_1 = go.Bar(x = df_v['Name'], y = df_v1['Volume'],\n",
    "                  name='Volume of Stocks Traded in 2017')\n",
    "layout = go.Layout(title='Average Volume of Shares - Year 2016 vs Year 2017',\n",
    "                   plot_bgcolor='rgb(230, 230,230)', \n",
    "                   showlegend=True,barmode='group')\n",
    "fig = go.Figure(data=[trace_0,trace_1], layout=layout)\n",
    "\n",
    "py.iplot(fig)"
   ]
  },
  {
   "cell_type": "markdown",
   "metadata": {},
   "source": [
    "### 7) Plot Avg. Opening Share Price for each Organization - Year 2016 vs Year 2017"
   ]
  },
  {
   "cell_type": "code",
   "execution_count": 81,
   "metadata": {
    "collapsed": true
   },
   "outputs": [],
   "source": [
    "df_p0=all_stocks_0.groupby('Name')['Open'].mean().to_frame()\n",
    "df_p0.reset_index(inplace=True)\n",
    "df_p1=all_stocks_1.groupby('Name')['Open'].mean().to_frame()\n",
    "df_p1.reset_index(inplace=True)"
   ]
  },
  {
   "cell_type": "code",
   "execution_count": 82,
   "metadata": {},
   "outputs": [
    {
     "data": {
      "text/html": [
       "<iframe id=\"igraph\" scrolling=\"no\" style=\"border:none;\" seamless=\"seamless\" src=\"https://plot.ly/~vinexy/118.embed\" height=\"525px\" width=\"100%\"></iframe>"
      ],
      "text/plain": [
       "<plotly.tools.PlotlyDisplay object>"
      ]
     },
     "execution_count": 82,
     "metadata": {},
     "output_type": "execute_result"
    }
   ],
   "source": [
    "trace_2 = go.Bar(x = df_p0['Name'], y = df_p0['Open'],\n",
    "                  name='Avg. opening price of Stocks Traded in 2016')\n",
    "trace_3 = go.Bar(x = df_p1['Name'], y = df_p1['Open'],\n",
    "                  name='Avg. opening price of Stocks Traded in 2017')\n",
    "layout = go.Layout(title='Avg. Opening Price of Shares - Year 2016 vs Year 2017',\n",
    "                   plot_bgcolor='rgb(230, 230,230)', \n",
    "                   showlegend=True,barmode='group')\n",
    "fig = go.Figure(data=[trace_2,trace_3], layout=layout)\n",
    "\n",
    "py.iplot(fig)"
   ]
  },
  {
   "cell_type": "markdown",
   "metadata": {},
   "source": [
    "### 8) Plot Avg. Closing Share Price for each Organization - Year 2016 vs Year 2017"
   ]
  },
  {
   "cell_type": "code",
   "execution_count": 53,
   "metadata": {
    "collapsed": true
   },
   "outputs": [],
   "source": [
    "df_p0=all_stocks_0.groupby('Name')['Close'].mean().to_frame()\n",
    "df_p0.reset_index(inplace=True)\n",
    "df_p1=all_stocks_1.groupby('Name')['Close'].mean().to_frame()\n",
    "df_p1.reset_index(inplace=True)"
   ]
  },
  {
   "cell_type": "code",
   "execution_count": 54,
   "metadata": {},
   "outputs": [
    {
     "data": {
      "text/html": [
       "<iframe id=\"igraph\" scrolling=\"no\" style=\"border:none;\" seamless=\"seamless\" src=\"https://plot.ly/~vinexy/82.embed\" height=\"525px\" width=\"100%\"></iframe>"
      ],
      "text/plain": [
       "<plotly.tools.PlotlyDisplay object>"
      ]
     },
     "execution_count": 54,
     "metadata": {},
     "output_type": "execute_result"
    }
   ],
   "source": [
    "trace_2 = go.Bar(x = df_p0['Name'], y = df_p0['Close'],\n",
    "                  name='Avg. closing price of Stocks Traded in 2016')\n",
    "trace_3 = go.Bar(x = df_p1['Name'], y = df_p1['Close'],\n",
    "                  name='Avg. Closing price of Stocks Traded in 2017')\n",
    "layout = go.Layout(title='Avg. Closing Price of Shares - Year 2016 vs Year 2017',\n",
    "                   plot_bgcolor='rgb(230, 230,230)', \n",
    "                   showlegend=True,barmode='group')\n",
    "fig = go.Figure(data=[trace_2,trace_3], layout=layout)\n",
    "\n",
    "py.iplot(fig)"
   ]
  },
  {
   "cell_type": "markdown",
   "metadata": {},
   "source": [
    "### 9) Plot Minimum Stock Price Vs Maximum Stock for each organiztion in Year 2017"
   ]
  },
  {
   "cell_type": "code",
   "execution_count": 59,
   "metadata": {
    "collapsed": true
   },
   "outputs": [],
   "source": [
    "df_p2=all_stocks_1.groupby('Name')['Low'].min().to_frame()\n",
    "df_p2.reset_index(inplace=True)\n",
    "df_p3=all_stocks_1.groupby('Name')['High'].max().to_frame()\n",
    "df_p3.reset_index(inplace=True)"
   ]
  },
  {
   "cell_type": "code",
   "execution_count": 63,
   "metadata": {},
   "outputs": [
    {
     "data": {
      "text/html": [
       "<iframe id=\"igraph\" scrolling=\"no\" style=\"border:none;\" seamless=\"seamless\" src=\"https://plot.ly/~vinexy/92.embed\" height=\"525px\" width=\"100%\"></iframe>"
      ],
      "text/plain": [
       "<plotly.tools.PlotlyDisplay object>"
      ]
     },
     "execution_count": 63,
     "metadata": {},
     "output_type": "execute_result"
    }
   ],
   "source": [
    "trace_4 = go.Bar(x = df_p2['Name'], y = df_p2['Low'],\n",
    "                  name='Minimum price of a Stock Traded in 2017')\n",
    "trace_5 = go.Bar(x = df_p3['Name'], y = df_p3['High'],\n",
    "                  name='Maximum price of a Stock Traded in 2017')\n",
    "layout = go.Layout(title='Minimum Price Vs Maximum Price of Shares (2017)',\n",
    "                   plot_bgcolor='rgb(230,230,230)', \n",
    "                   showlegend=True,barmode='group')\n",
    "fig = go.Figure(data=[trace_4,trace_5], layout=layout)\n",
    "\n",
    "py.iplot(fig)"
   ]
  },
  {
   "cell_type": "markdown",
   "metadata": {},
   "source": [
    "### 10) Plot Annual Share growth for the top 2 companies - Google and Amazon"
   ]
  },
  {
   "cell_type": "code",
   "execution_count": 43,
   "metadata": {},
   "outputs": [],
   "source": [
    "google_dat['year']=[i[0:4] for i in google_dat['Date']]\n",
    "amazon_dat['year']=[j[0:4] for j in amazon_dat['Date']]"
   ]
  },
  {
   "cell_type": "code",
   "execution_count": 44,
   "metadata": {
    "collapsed": true
   },
   "outputs": [],
   "source": [
    "df = google_dat.groupby('year')['Close'].mean().to_frame()\n",
    "df_1=amazon_dat.groupby('year')['Close'].mean().to_frame()"
   ]
  },
  {
   "cell_type": "code",
   "execution_count": 47,
   "metadata": {
    "collapsed": true
   },
   "outputs": [],
   "source": [
    "df['Close_lag_yr']=df['Close'].shift(-1)\n",
    "df_1['Close_lag_yr']=df_1['Close'].shift(-1)"
   ]
  },
  {
   "cell_type": "code",
   "execution_count": 48,
   "metadata": {},
   "outputs": [
    {
     "data": {
      "text/html": [
       "<div>\n",
       "<style>\n",
       "    .dataframe thead tr:only-child th {\n",
       "        text-align: right;\n",
       "    }\n",
       "\n",
       "    .dataframe thead th {\n",
       "        text-align: left;\n",
       "    }\n",
       "\n",
       "    .dataframe tbody tr th {\n",
       "        vertical-align: top;\n",
       "    }\n",
       "</style>\n",
       "<table border=\"1\" class=\"dataframe\">\n",
       "  <thead>\n",
       "    <tr style=\"text-align: right;\">\n",
       "      <th></th>\n",
       "      <th>Close</th>\n",
       "      <th>Close_lag_yr</th>\n",
       "    </tr>\n",
       "    <tr>\n",
       "      <th>year</th>\n",
       "      <th></th>\n",
       "      <th></th>\n",
       "    </tr>\n",
       "  </thead>\n",
       "  <tbody>\n",
       "    <tr>\n",
       "      <th>2006</th>\n",
       "      <td>35.909323</td>\n",
       "      <td>67.229482</td>\n",
       "    </tr>\n",
       "    <tr>\n",
       "      <th>2007</th>\n",
       "      <td>67.229482</td>\n",
       "      <td>69.880040</td>\n",
       "    </tr>\n",
       "    <tr>\n",
       "      <th>2008</th>\n",
       "      <td>69.880040</td>\n",
       "      <td>87.281825</td>\n",
       "    </tr>\n",
       "    <tr>\n",
       "      <th>2009</th>\n",
       "      <td>87.281825</td>\n",
       "      <td>139.169602</td>\n",
       "    </tr>\n",
       "    <tr>\n",
       "      <th>2010</th>\n",
       "      <td>139.169602</td>\n",
       "      <td>196.663849</td>\n",
       "    </tr>\n",
       "    <tr>\n",
       "      <th>2011</th>\n",
       "      <td>196.663849</td>\n",
       "      <td>220.303680</td>\n",
       "    </tr>\n",
       "    <tr>\n",
       "      <th>2012</th>\n",
       "      <td>220.303680</td>\n",
       "      <td>298.032222</td>\n",
       "    </tr>\n",
       "    <tr>\n",
       "      <th>2013</th>\n",
       "      <td>298.032222</td>\n",
       "      <td>332.550913</td>\n",
       "    </tr>\n",
       "    <tr>\n",
       "      <th>2014</th>\n",
       "      <td>332.550913</td>\n",
       "      <td>478.138294</td>\n",
       "    </tr>\n",
       "    <tr>\n",
       "      <th>2015</th>\n",
       "      <td>478.138294</td>\n",
       "      <td>699.523135</td>\n",
       "    </tr>\n",
       "    <tr>\n",
       "      <th>2016</th>\n",
       "      <td>699.523135</td>\n",
       "      <td>968.167012</td>\n",
       "    </tr>\n",
       "    <tr>\n",
       "      <th>2017</th>\n",
       "      <td>968.167012</td>\n",
       "      <td>0.000000</td>\n",
       "    </tr>\n",
       "  </tbody>\n",
       "</table>\n",
       "</div>"
      ],
      "text/plain": [
       "           Close  Close_lag_yr\n",
       "year                          \n",
       "2006   35.909323     67.229482\n",
       "2007   67.229482     69.880040\n",
       "2008   69.880040     87.281825\n",
       "2009   87.281825    139.169602\n",
       "2010  139.169602    196.663849\n",
       "2011  196.663849    220.303680\n",
       "2012  220.303680    298.032222\n",
       "2013  298.032222    332.550913\n",
       "2014  332.550913    478.138294\n",
       "2015  478.138294    699.523135\n",
       "2016  699.523135    968.167012\n",
       "2017  968.167012      0.000000"
      ]
     },
     "execution_count": 48,
     "metadata": {},
     "output_type": "execute_result"
    }
   ],
   "source": [
    "df.fillna(value=0)\n",
    "df_1.fillna(value=0)"
   ]
  },
  {
   "cell_type": "code",
   "execution_count": 49,
   "metadata": {
    "collapsed": true
   },
   "outputs": [],
   "source": [
    "df['Annual_growth'] = ((df['Close_lag_yr']-df['Close'])/df['Close'])*100\n",
    "df_1['Annual_growth'] = ((df_1['Close_lag_yr']-df_1['Close'])/df_1['Close'])*100"
   ]
  },
  {
   "cell_type": "code",
   "execution_count": 50,
   "metadata": {
    "collapsed": true
   },
   "outputs": [],
   "source": [
    "df.reset_index(inplace=True)\n",
    "df_1.reset_index(inplace=True)"
   ]
  },
  {
   "cell_type": "code",
   "execution_count": 52,
   "metadata": {},
   "outputs": [
    {
     "data": {
      "text/html": [
       "<iframe id=\"igraph\" scrolling=\"no\" style=\"border:none;\" seamless=\"seamless\" src=\"https://plot.ly/~vinexy/80.embed\" height=\"525px\" width=\"100%\"></iframe>"
      ],
      "text/plain": [
       "<plotly.tools.PlotlyDisplay object>"
      ]
     },
     "execution_count": 52,
     "metadata": {},
     "output_type": "execute_result"
    }
   ],
   "source": [
    "trace = go.Scatter(x = df['year'], y = df['Annual_growth'],\n",
    "                  name='Annual Google growth rate (in USD)')\n",
    "trace_1= go.Scatter(x = df_1['year'], y = df_1['Annual_growth'],\n",
    "                  name='Annual Amazon growth rate (in USD)')\n",
    "\n",
    "layout = go.Layout(title='Google Vs Amazon Share Annual Growth Rate',\n",
    "                   plot_bgcolor='rgb(230, 230,230)', \n",
    "                   showlegend=True)\n",
    "fig = go.Figure(data=[trace,trace_1], layout=layout)\n",
    "\n",
    "py.iplot(fig)"
   ]
  },
  {
   "cell_type": "markdown",
   "metadata": {},
   "source": [
    "### 11) Plot Market Share for each organization for Year 2016 and Year 2017"
   ]
  },
  {
   "cell_type": "code",
   "execution_count": 17,
   "metadata": {
    "collapsed": true
   },
   "outputs": [],
   "source": [
    "df_1=all_stocks_0.groupby('Name')['Close','Volume'].mean()\n",
    "df_2=all_stocks_1.groupby('Name')['Close','Volume'].mean()"
   ]
  },
  {
   "cell_type": "code",
   "execution_count": 18,
   "metadata": {
    "collapsed": true
   },
   "outputs": [],
   "source": [
    "df_1.reset_index(inplace=True)\n",
    "df_2.reset_index(inplace=True)"
   ]
  },
  {
   "cell_type": "code",
   "execution_count": 19,
   "metadata": {
    "collapsed": true
   },
   "outputs": [],
   "source": [
    "df_1['Market_share'] = df_1['Close'] * df_1['Volume']\n",
    "df_2['Market_share'] = df_2['Close'] * df_2['Volume']"
   ]
  },
  {
   "cell_type": "code",
   "execution_count": 39,
   "metadata": {},
   "outputs": [
    {
     "data": {
      "text/html": [
       "<iframe id=\"igraph\" scrolling=\"no\" style=\"border:none;\" seamless=\"seamless\" src=\"https://plot.ly/~vinexy/78.embed\" height=\"525px\" width=\"100%\"></iframe>"
      ],
      "text/plain": [
       "<plotly.tools.PlotlyDisplay object>"
      ]
     },
     "execution_count": 39,
     "metadata": {},
     "output_type": "execute_result"
    }
   ],
   "source": [
    "trace_1 = go.Pie(labels=df_1['Name'], values=df_1['Market_share'],domain= {'x': [0, .48],'y': [0, 1]},\n",
    "               hoverinfo='label+percent', textinfo='value', \n",
    "               textfont=dict(size=10),\n",
    "               marker=dict(\n",
    "                           line=dict(color='#000000', width=2)))\n",
    "\n",
    "trace_2 = go.Pie(labels=df_2['Name'], values=df_2['Market_share'], domain= {'x': [0.52, 1],'y': [0, 1]},\n",
    "               hoverinfo='label+percent', textinfo='value', \n",
    "               textfont=dict(size=10),\n",
    "               marker=dict(\n",
    "                           line=dict(color='#000000', width=2)))\n",
    "\n",
    "layout = go.Layout(title = 'Market Share - Year 2016 Vs Year 2017 ')\n",
    "\n",
    "fig = go.Figure(data=[trace_1,trace_2], layout = layout)\n",
    "py.iplot(fig, show_link = False)"
   ]
  },
  {
   "cell_type": "code",
   "execution_count": null,
   "metadata": {
    "collapsed": true
   },
   "outputs": [],
   "source": []
  }
 ],
 "metadata": {
  "kernelspec": {
   "display_name": "Python 3",
   "language": "python",
   "name": "python3"
  },
  "language_info": {
   "codemirror_mode": {
    "name": "ipython",
    "version": 3
   },
   "file_extension": ".py",
   "mimetype": "text/x-python",
   "name": "python",
   "nbconvert_exporter": "python",
   "pygments_lexer": "ipython3",
   "version": "3.6.1"
  }
 },
 "nbformat": 4,
 "nbformat_minor": 2
}
